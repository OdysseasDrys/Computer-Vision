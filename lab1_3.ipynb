{
 "cells": [
  {
   "attachments": {},
   "cell_type": "markdown",
   "metadata": {},
   "source": [
    "<h2> Μέρος 3: Εφαρμογές σε Ταίριασμα και Κατηγοριοποίηση Εικόνων με\n",
    "Χρήση Τοπικών Περιγραφητών στα Σημεία Ενδιαφέροντος </h2>"
   ]
  },
  {
   "attachments": {},
   "cell_type": "markdown",
   "metadata": {},
   "source": [
    "<h3> 3.1. Ταίριασμα Εικόνων υπό Περιστροφή και Αλλαγή Κλίμακας </h3>    "
   ]
  },
  {
   "cell_type": "code",
   "execution_count": 1,
   "metadata": {},
   "outputs": [],
   "source": [
    "import cv2\n",
    "from matplotlib import pyplot as plt\n",
    "import numpy as np\n",
    "\n",
    "\n",
    "import cv23_lab1_part3_utils as p3\n",
    "from cv23_lab1_part2_utils import interest_points_visualization\n",
    "from cv23_lab1_part2_utils import disk_strel\n",
    "import detectors as p2\n"
   ]
  },
  {
   "cell_type": "code",
   "execution_count": 2,
   "metadata": {},
   "outputs": [],
   "source": [
    "I = cv2.imread('up.png', cv2.IMREAD_GRAYSCALE)"
   ]
  },
  {
   "cell_type": "code",
   "execution_count": 3,
   "metadata": {},
   "outputs": [
    {
     "name": "stdout",
     "output_type": "stream",
     "text": [
      "Avg. Scale Error for Image 1: 0.186\n",
      "Avg. Theta Error for Image 1: 22.619\n"
     ]
    }
   ],
   "source": [
    "\n",
    "if __name__ == '__main__':\n",
    "\n",
    "    detect_fun = lambda I: p2.CornerDetect(I, 2, 2.5, 0.05, 0.005)\n",
    "\n",
    "    desc_fun = lambda I, kp: p3.featuresHOG(I,kp)\n",
    "\n",
    "    avg_scale_errors, avg_theta_errors = p3.matching_evaluation(detect_fun, desc_fun)\n",
    "    print('Avg. Scale Error for Image 1: {:.3f}'.format(avg_scale_errors[0]))\n",
    "    print('Avg. Theta Error for Image 1: {:.3f}'.format(avg_theta_errors[0]))\n"
   ]
  },
  {
   "cell_type": "code",
   "execution_count": 4,
   "metadata": {},
   "outputs": [
    {
     "name": "stdout",
     "output_type": "stream",
     "text": [
      "Avg. Scale Error for Image 1: 0.003\n",
      "Avg. Theta Error for Image 1: 1.968\n"
     ]
    }
   ],
   "source": [
    "if __name__ == '__main__':\n",
    "\n",
    "    detect_fun = lambda I: p2.CornerDetect(I, 2, 2.5, 0.05, 0.005)\n",
    "\n",
    "     \n",
    "    desc_fun = lambda I, kp: p3.featuresSURF(I,kp)\n",
    "\n",
    "    avg_scale_errors, avg_theta_errors = p3.matching_evaluation(detect_fun, desc_fun)\n",
    "    print('Avg. Scale Error for Image 1: {:.3f}'.format(avg_scale_errors[0]))\n",
    "    print('Avg. Theta Error for Image 1: {:.3f}'.format(avg_theta_errors[0]))\n"
   ]
  },
  {
   "cell_type": "code",
   "execution_count": 5,
   "metadata": {},
   "outputs": [
    {
     "name": "stdout",
     "output_type": "stream",
     "text": [
      "Avg. Scale Error for Image 1: 0.085\n",
      "Avg. Theta Error for Image 1: 22.594\n"
     ]
    }
   ],
   "source": [
    "\n",
    "if __name__ == '__main__':\n",
    "\n",
    "    detect_fun = lambda I: p2.MultiScaleCornerDetect(I, 2, 2.5, 0.05, 0.005, 1.5, 4)\n",
    "\n",
    "    desc_fun = lambda I, kp: p3.featuresHOG(I,kp)\n",
    "\n",
    "    avg_scale_errors, avg_theta_errors = p3.matching_evaluation(detect_fun, desc_fun)\n",
    "    print('Avg. Scale Error for Image 1: {:.3f}'.format(avg_scale_errors[0]))\n",
    "    print('Avg. Theta Error for Image 1: {:.3f}'.format(avg_theta_errors[0]))\n"
   ]
  },
  {
   "cell_type": "code",
   "execution_count": 6,
   "metadata": {},
   "outputs": [
    {
     "name": "stdout",
     "output_type": "stream",
     "text": [
      "Avg. Scale Error for Image 1: 0.002\n",
      "Avg. Theta Error for Image 1: 0.088\n"
     ]
    }
   ],
   "source": [
    "if __name__ == '__main__':\n",
    "\n",
    "    detect_fun = lambda I: p2.MultiScaleCornerDetect(I, 2, 2.5, 0.05, 0.005, 1.5, 4)\n",
    "\n",
    "    desc_fun = lambda I, kp: p3.featuresSURF(I,kp)\n",
    "\n",
    "    avg_scale_errors, avg_theta_errors = p3.matching_evaluation(detect_fun, desc_fun)\n",
    "    print('Avg. Scale Error for Image 1: {:.3f}'.format(avg_scale_errors[0]))\n",
    "    print('Avg. Theta Error for Image 1: {:.3f}'.format(avg_theta_errors[0]))"
   ]
  },
  {
   "cell_type": "code",
   "execution_count": 7,
   "metadata": {},
   "outputs": [
    {
     "name": "stdout",
     "output_type": "stream",
     "text": [
      "Avg. Scale Error for Image 1: 0.027\n",
      "Avg. Theta Error for Image 1: 7.759\n"
     ]
    }
   ],
   "source": [
    "\n",
    "if __name__ == '__main__':\n",
    "\n",
    "    detect_fun = lambda I: p2.BlobDetect(I, 2, 2.5, 0.05, 0.005)\n",
    "\n",
    "    desc_fun = lambda I, kp: p3.featuresSURF(I,kp)\n",
    "\n",
    "    avg_scale_errors, avg_theta_errors = p3.matching_evaluation(detect_fun, desc_fun)\n",
    "    print('Avg. Scale Error for Image 1: {:.3f}'.format(avg_scale_errors[0]))\n",
    "    print('Avg. Theta Error for Image 1: {:.3f}'.format(avg_theta_errors[0]))\n"
   ]
  },
  {
   "cell_type": "code",
   "execution_count": 8,
   "metadata": {},
   "outputs": [
    {
     "name": "stdout",
     "output_type": "stream",
     "text": [
      "Avg. Scale Error for Image 1: 0.111\n",
      "Avg. Theta Error for Image 1: 23.335\n"
     ]
    }
   ],
   "source": [
    "if __name__ == '__main__':\n",
    "\n",
    "    detect_fun = lambda I: p2.MultiScaleBlobDetect(I, 2, 2.5, 0.05, 0.005, 1.5, 4)\n",
    "\n",
    "    desc_fun = lambda I, kp: p3.featuresHOG(I,kp)\n",
    "\n",
    "    avg_scale_errors, avg_theta_errors = p3.matching_evaluation(detect_fun, desc_fun)\n",
    "    print('Avg. Scale Error for Image 1: {:.3f}'.format(avg_scale_errors[0]))\n",
    "    print('Avg. Theta Error for Image 1: {:.3f}'.format(avg_theta_errors[0]))\n"
   ]
  },
  {
   "cell_type": "code",
   "execution_count": 9,
   "metadata": {},
   "outputs": [
    {
     "name": "stdout",
     "output_type": "stream",
     "text": [
      "Avg. Scale Error for Image 1: 0.001\n",
      "Avg. Theta Error for Image 1: 0.091\n"
     ]
    }
   ],
   "source": [
    "if __name__ == '__main__':\n",
    "\n",
    "    detect_fun = lambda I: p2.MultiScaleBlobDetect(I, 2, 2.5, 0.05, 0.005, 1.5, 4)\n",
    "\n",
    "    desc_fun = lambda I, kp: p3.featuresSURF(I,kp)\n",
    "\n",
    "    avg_scale_errors, avg_theta_errors = p3.matching_evaluation(detect_fun, desc_fun)\n",
    "    print('Avg. Scale Error for Image 1: {:.3f}'.format(avg_scale_errors[0]))\n",
    "    print('Avg. Theta Error for Image 1: {:.3f}'.format(avg_theta_errors[0]))"
   ]
  },
  {
   "attachments": {},
   "cell_type": "markdown",
   "metadata": {},
   "source": [
    "<h2> 3.2. Κατηγοριοποίηση Εικόνων </h2>"
   ]
  },
  {
   "cell_type": "code",
   "execution_count": 10,
   "metadata": {},
   "outputs": [
    {
     "name": "stdout",
     "output_type": "stream",
     "text": [
      "Time for feature extraction: 49.624\n",
      "Mean accuracy for Multi Scale Corner Detection with SURF descriptors: 59.724%\n"
     ]
    }
   ],
   "source": [
    "if __name__ == '__main__':\n",
    "    # Change with your own detectors here!\n",
    "    detect_fun = lambda I: p2.MultiScaleCornerDetect(I, 2, 2.5, 0.05, 0.005, 1.5, 4)\n",
    "\n",
    "    desc_fun = lambda I, kp: p3.featuresSURF(I,kp)\n",
    "\n",
    "    # Extract features from the provided dataset.\n",
    "    feats = p3.FeatureExtraction(detect_fun, desc_fun)\n",
    "\n",
    "    # If the above code takes too long, you can use the following extra parameters of Feature extraction:\n",
    "    #   saveFile = <filename>: Save the extracted features in a file with the provided name.\n",
    "    #   loadFile = <filename>: Load the extracted features from a given file (which MUST exist beforehand).\n",
    "\n",
    "\n",
    "    accs = []\n",
    "    for k in range(5):\n",
    "        # Split into a training set and a test set.\n",
    "        data_train, label_train, data_test, label_test = p3.createTrainTest(feats, k)\n",
    "\n",
    "        # Perform Kmeans to find centroids for clusters.\n",
    "        BOF_tr, BOF_ts = p3.BagOfWords(data_train, data_test)\n",
    "\n",
    "        # Train an svm on the training set and make predictions on the test set\n",
    "        acc, preds, probas = p3.svm(BOF_tr, label_train, BOF_ts, label_test)\n",
    "        accs.append(acc)\n",
    "\n",
    "    print('Mean accuracy for Multi Scale Corner Detection with SURF descriptors: {:.3f}%'.format(100.0*np.mean(accs)))\n"
   ]
  },
  {
   "cell_type": "code",
   "execution_count": 11,
   "metadata": {},
   "outputs": [
    {
     "name": "stdout",
     "output_type": "stream",
     "text": [
      "Time for feature extraction: 60.203\n",
      "Mean accuracy for Multi Scale Corner Detection with HOG descriptors: 67.586%\n"
     ]
    }
   ],
   "source": [
    "if __name__ == '__main__':\n",
    "    # Change with your own detectors here!\n",
    "    detect_fun = lambda I: p2.MultiScaleCornerDetect(I, 2, 2.5, 0.05, 0.005, 1.5, 4)\n",
    "\n",
    "    desc_fun = lambda I, kp: p3.featuresHOG(I,kp)\n",
    "\n",
    "    # Extract features from the provided dataset.\n",
    "    feats = p3.FeatureExtraction(detect_fun, desc_fun)\n",
    "\n",
    "    # If the above code takes too long, you can use the following extra parameters of Feature extraction:\n",
    "    #   saveFile = <filename>: Save the extracted features in a file with the provided name.\n",
    "    #   loadFile = <filename>: Load the extracted features from a given file (which MUST exist beforehand).\n",
    "\n",
    "\n",
    "    accs = []\n",
    "    for k in range(5):\n",
    "        # Split into a training set and a test set.\n",
    "        data_train, label_train, data_test, label_test = p3.createTrainTest(feats, k)\n",
    "\n",
    "        # Perform Kmeans to find centroids for clusters.\n",
    "        BOF_tr, BOF_ts = p3.BagOfWords(data_train, data_test)\n",
    "\n",
    "        # Train an svm on the training set and make predictions on the test set\n",
    "        acc, preds, probas = p3.svm(BOF_tr, label_train, BOF_ts, label_test)\n",
    "        accs.append(acc)\n",
    "\n",
    "    print('Mean accuracy for Multi Scale Corner Detection with HOG descriptors: {:.3f}%'.format(100.0*np.mean(accs)))\n"
   ]
  },
  {
   "cell_type": "code",
   "execution_count": 12,
   "metadata": {},
   "outputs": [
    {
     "name": "stdout",
     "output_type": "stream",
     "text": [
      "Time for feature extraction: 56.310\n",
      "Mean accuracy for Multi Scale Blob Detection with HOG descriptors: 67.586%\n"
     ]
    }
   ],
   "source": [
    "if __name__ == '__main__':\n",
    "    # Change with your own detectors here!\n",
    "    detect_fun = lambda I: p2.MultiScaleBlobDetect(I, 2, 2.5, 0.05, 0.005, 1.5, 4)\n",
    "\n",
    "    desc_fun = lambda I, kp: p3.featuresHOG(I,kp)\n",
    "\n",
    "    # Extract features from the provided dataset.\n",
    "    feats = p3.FeatureExtraction(detect_fun, desc_fun)\n",
    "\n",
    "    # If the above code takes too long, you can use the following extra parameters of Feature extraction:\n",
    "    #   saveFile = <filename>: Save the extracted features in a file with the provided name.\n",
    "    #   loadFile = <filename>: Load the extracted features from a given file (which MUST exist beforehand).\n",
    "\n",
    "\n",
    "    accs = []\n",
    "    for k in range(5):\n",
    "        # Split into a training set and a test set.\n",
    "        data_train, label_train, data_test, label_test = p3.createTrainTest(feats, k)\n",
    "\n",
    "        # Perform Kmeans to find centroids for clusters.\n",
    "        BOF_tr, BOF_ts = p3.BagOfWords(data_train, data_test)\n",
    "\n",
    "        # Train an svm on the training set and make predictions on the test set\n",
    "        acc, preds, probas = p3.svm(BOF_tr, label_train, BOF_ts, label_test)\n",
    "        accs.append(acc)\n",
    "\n",
    "    print('Mean accuracy for Multi Scale Blob Detection with HOG descriptors: {:.3f}%'.format(100.0*np.mean(accs)))"
   ]
  },
  {
   "cell_type": "code",
   "execution_count": 13,
   "metadata": {},
   "outputs": [
    {
     "name": "stdout",
     "output_type": "stream",
     "text": [
      "Time for feature extraction: 31.508\n",
      "Mean accuracy for Multi Scale Blob Detection with SURF descriptors: 58.759%\n"
     ]
    }
   ],
   "source": [
    "if __name__ == '__main__':\n",
    "    # Change with your own detectors here!\n",
    "    detect_fun = lambda I: p2.MultiScaleBlobDetect(I, 2, 2.5, 0.05, 0.005, 1.5, 4)\n",
    "\n",
    "    desc_fun = lambda I, kp: p3.featuresSURF(I,kp)\n",
    "\n",
    "    # Extract features from the provided dataset.\n",
    "    feats = p3.FeatureExtraction(detect_fun, desc_fun)\n",
    "\n",
    "    # If the above code takes too long, you can use the following extra parameters of Feature extraction:\n",
    "    #   saveFile = <filename>: Save the extracted features in a file with the provided name.\n",
    "    #   loadFile = <filename>: Load the extracted features from a given file (which MUST exist beforehand).\n",
    "\n",
    "\n",
    "    accs = []\n",
    "    for k in range(5):\n",
    "        # Split into a training set and a test set.\n",
    "        data_train, label_train, data_test, label_test = p3.createTrainTest(feats, k)\n",
    "\n",
    "        # Perform Kmeans to find centroids for clusters.\n",
    "        BOF_tr, BOF_ts = p3.BagOfWords(data_train, data_test)\n",
    "\n",
    "        # Train an svm on the training set and make predictions on the test set\n",
    "        acc, preds, probas = p3.svm(BOF_tr, label_train, BOF_ts, label_test)\n",
    "        accs.append(acc)\n",
    "\n",
    "    print('Mean accuracy for Multi Scale Blob Detection with SURF descriptors: {:.3f}%'.format(100.0*np.mean(accs)))"
   ]
  }
 ],
 "metadata": {
  "kernelspec": {
   "display_name": "cv_lab1_env",
   "language": "python",
   "name": "python3"
  },
  "language_info": {
   "codemirror_mode": {
    "name": "ipython",
    "version": 3
   },
   "file_extension": ".py",
   "mimetype": "text/x-python",
   "name": "python",
   "nbconvert_exporter": "python",
   "pygments_lexer": "ipython3",
   "version": "3.7.16"
  },
  "orig_nbformat": 4
 },
 "nbformat": 4,
 "nbformat_minor": 2
}
