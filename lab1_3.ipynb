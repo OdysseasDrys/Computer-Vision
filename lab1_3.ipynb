{
 "cells": [
  {
   "attachments": {},
   "cell_type": "markdown",
   "metadata": {},
   "source": [
    "<h2> Μέρος 3: Εφαρμογές σε Ταίριασμα και Κατηγοριοποίηση Εικόνων με\n",
    "Χρήση Τοπικών Περιγραφητών στα Σημεία Ενδιαφέροντος </h2>"
   ]
  },
  {
   "attachments": {},
   "cell_type": "markdown",
   "metadata": {},
   "source": [
    "<h3> 3.1. Ταίριασμα Εικόνων υπό Περιστροφή και Αλλαγή Κλίμακας </h3>    "
   ]
  },
  {
   "cell_type": "code",
   "execution_count": 9,
   "metadata": {},
   "outputs": [
    {
     "ename": "ValueError",
     "evalue": "source code string cannot contain null bytes",
     "output_type": "error",
     "traceback": [
      "\u001b[1;31m---------------------------------------------------------------------------\u001b[0m",
      "\u001b[1;31mValueError\u001b[0m                                Traceback (most recent call last)",
      "\u001b[1;32m~\\AppData\\Local\\Temp\\ipykernel_17764\\1896191361.py\u001b[0m in \u001b[0;36m<module>\u001b[1;34m\u001b[0m\n\u001b[0;32m      4\u001b[0m \u001b[1;33m\u001b[0m\u001b[0m\n\u001b[0;32m      5\u001b[0m \u001b[1;33m\u001b[0m\u001b[0m\n\u001b[1;32m----> 6\u001b[1;33m \u001b[1;32mimport\u001b[0m \u001b[0mcv23_lab1_part3_utils\u001b[0m \u001b[1;32mas\u001b[0m \u001b[0mp3\u001b[0m\u001b[1;33m\u001b[0m\u001b[1;33m\u001b[0m\u001b[0m\n\u001b[0m\u001b[0;32m      7\u001b[0m \u001b[1;32mfrom\u001b[0m \u001b[0mcv23_lab1_part2_utils\u001b[0m \u001b[1;32mimport\u001b[0m \u001b[0minterest_points_visualization\u001b[0m\u001b[1;33m\u001b[0m\u001b[1;33m\u001b[0m\u001b[0m\n\u001b[0;32m      8\u001b[0m \u001b[1;32mfrom\u001b[0m \u001b[0mcv23_lab1_part2_utils\u001b[0m \u001b[1;32mimport\u001b[0m \u001b[0mdisk_strel\u001b[0m\u001b[1;33m\u001b[0m\u001b[1;33m\u001b[0m\u001b[0m\n",
      "\u001b[1;31mValueError\u001b[0m: source code string cannot contain null bytes"
     ]
    }
   ],
   "source": [
    "import cv2\n",
    "from matplotlib import pyplot as plt\n",
    "import numpy as np\n",
    "\n",
    "\n",
    "import cv23_lab1_part3_utils as p3\n",
    "from cv23_lab1_part2_utils import interest_points_visualization\n",
    "from cv23_lab1_part2_utils import disk_strel\n",
    "import detectors as p2\n"
   ]
  },
  {
   "cell_type": "code",
   "execution_count": 5,
   "metadata": {},
   "outputs": [],
   "source": [
    "I = cv2.imread('cells.jpg', cv2.IMREAD_GRAYSCALE)"
   ]
  },
  {
   "cell_type": "code",
   "execution_count": 24,
   "metadata": {},
   "outputs": [
    {
     "name": "stdout",
     "output_type": "stream",
     "text": [
      "Avg. Scale Error for Image 1: 0.186\n",
      "Avg. Theta Error for Image 1: 22.619\n"
     ]
    }
   ],
   "source": [
    "\n",
    "if __name__ == '__main__':\n",
    "    # Here is a lambda which acts as a wrapper for detector function, e.g. harrisDetector.\n",
    "    # The detector arguments are, in order: image, sigma, rho, k, threshold.\n",
    "    detect_fun = lambda I: p2.CornerDetect(I, 2, 2.5, 0.05, 0.005)\n",
    "\n",
    "    # You can use either of the following lines to extract features (HOG/SURF).\n",
    "    desc_fun = lambda I, kp: p3.featuresHOG(I,kp)\n",
    "    # desc_fun = lambda I, kp: p3.featuresHOG(I,kp)\n",
    "\n",
    "    # Execute evaluation by providing the above functions as arguments\n",
    "    # Returns 2 1x3 arrays containing the errors\n",
    "    avg_scale_errors, avg_theta_errors = p3.matching_evaluation(detect_fun, desc_fun)\n",
    "    print('Avg. Scale Error for Image 1: {:.3f}'.format(avg_scale_errors[0]))\n",
    "    print('Avg. Theta Error for Image 1: {:.3f}'.format(avg_theta_errors[0]))\n"
   ]
  },
  {
   "cell_type": "code",
   "execution_count": 25,
   "metadata": {},
   "outputs": [
    {
     "ename": "AttributeError",
     "evalue": "'list' object has no attribute 'shape'",
     "output_type": "error",
     "traceback": [
      "\u001b[1;31m---------------------------------------------------------------------------\u001b[0m",
      "\u001b[1;31mAttributeError\u001b[0m                            Traceback (most recent call last)",
      "\u001b[1;32m~\\AppData\\Local\\Temp\\ipykernel_19364\\3363884248.py\u001b[0m in \u001b[0;36m<module>\u001b[1;34m\u001b[0m\n\u001b[0;32m     10\u001b[0m     \u001b[1;31m# Execute evaluation by providing the above functions as arguments\u001b[0m\u001b[1;33m\u001b[0m\u001b[1;33m\u001b[0m\u001b[1;33m\u001b[0m\u001b[0m\n\u001b[0;32m     11\u001b[0m     \u001b[1;31m# Returns 2 1x3 arrays containing the errors\u001b[0m\u001b[1;33m\u001b[0m\u001b[1;33m\u001b[0m\u001b[1;33m\u001b[0m\u001b[0m\n\u001b[1;32m---> 12\u001b[1;33m     \u001b[0mavg_scale_errors\u001b[0m\u001b[1;33m,\u001b[0m \u001b[0mavg_theta_errors\u001b[0m \u001b[1;33m=\u001b[0m \u001b[0mp3\u001b[0m\u001b[1;33m.\u001b[0m\u001b[0mmatching_evaluation\u001b[0m\u001b[1;33m(\u001b[0m\u001b[0mdetect_fun\u001b[0m\u001b[1;33m,\u001b[0m \u001b[0mdesc_fun\u001b[0m\u001b[1;33m)\u001b[0m\u001b[1;33m\u001b[0m\u001b[1;33m\u001b[0m\u001b[0m\n\u001b[0m\u001b[0;32m     13\u001b[0m     \u001b[0mprint\u001b[0m\u001b[1;33m(\u001b[0m\u001b[1;34m'Avg. Scale Error for Image 1: {:.3f}'\u001b[0m\u001b[1;33m.\u001b[0m\u001b[0mformat\u001b[0m\u001b[1;33m(\u001b[0m\u001b[0mavg_scale_errors\u001b[0m\u001b[1;33m[\u001b[0m\u001b[1;36m0\u001b[0m\u001b[1;33m]\u001b[0m\u001b[1;33m)\u001b[0m\u001b[1;33m)\u001b[0m\u001b[1;33m\u001b[0m\u001b[1;33m\u001b[0m\u001b[0m\n\u001b[0;32m     14\u001b[0m     \u001b[0mprint\u001b[0m\u001b[1;33m(\u001b[0m\u001b[1;34m'Avg. Theta Error for Image 1: {:.3f}'\u001b[0m\u001b[1;33m.\u001b[0m\u001b[0mformat\u001b[0m\u001b[1;33m(\u001b[0m\u001b[0mavg_theta_errors\u001b[0m\u001b[1;33m[\u001b[0m\u001b[1;36m0\u001b[0m\u001b[1;33m]\u001b[0m\u001b[1;33m)\u001b[0m\u001b[1;33m)\u001b[0m\u001b[1;33m\u001b[0m\u001b[1;33m\u001b[0m\u001b[0m\n",
      "\u001b[1;32mc:\\Users\\odydr\\OneDrive\\Documents\\GitHub\\Computer-Vision\\cv23_lab1_part3_utils.pyc\u001b[0m in \u001b[0;36mmatching_evaluation\u001b[1;34m(OO0O0O0OO0O0O00OO, O000OOO0OOOOO00OO)\u001b[0m\n",
      "\u001b[1;32m~\\AppData\\Local\\Temp\\ipykernel_19364\\3363884248.py\u001b[0m in \u001b[0;36m<lambda>\u001b[1;34m(I, kp)\u001b[0m\n\u001b[0;32m      5\u001b[0m \u001b[1;33m\u001b[0m\u001b[0m\n\u001b[0;32m      6\u001b[0m     \u001b[1;31m# You can use either of the following lines to extract features (HOG/SURF).\u001b[0m\u001b[1;33m\u001b[0m\u001b[1;33m\u001b[0m\u001b[1;33m\u001b[0m\u001b[0m\n\u001b[1;32m----> 7\u001b[1;33m     \u001b[0mdesc_fun\u001b[0m \u001b[1;33m=\u001b[0m \u001b[1;32mlambda\u001b[0m \u001b[0mI\u001b[0m\u001b[1;33m,\u001b[0m \u001b[0mkp\u001b[0m\u001b[1;33m:\u001b[0m \u001b[0mp3\u001b[0m\u001b[1;33m.\u001b[0m\u001b[0mfeaturesHOG\u001b[0m\u001b[1;33m(\u001b[0m\u001b[0mI\u001b[0m\u001b[1;33m,\u001b[0m\u001b[0mkp\u001b[0m\u001b[1;33m)\u001b[0m\u001b[1;33m\u001b[0m\u001b[1;33m\u001b[0m\u001b[0m\n\u001b[0m\u001b[0;32m      8\u001b[0m     \u001b[1;31m# desc_fun = lambda I, kp: p3.featuresHOG(I,kp)\u001b[0m\u001b[1;33m\u001b[0m\u001b[1;33m\u001b[0m\u001b[1;33m\u001b[0m\u001b[0m\n\u001b[0;32m      9\u001b[0m \u001b[1;33m\u001b[0m\u001b[0m\n",
      "\u001b[1;32mc:\\Users\\odydr\\OneDrive\\Documents\\GitHub\\Computer-Vision\\cv23_lab1_part3_utils.pyc\u001b[0m in \u001b[0;36mfeaturesHOG\u001b[1;34m(O00OO00O0O0OOO000, OOO0OO0O00O0O0O00)\u001b[0m\n",
      "\u001b[1;31mAttributeError\u001b[0m: 'list' object has no attribute 'shape'"
     ]
    }
   ],
   "source": [
    "\n",
    "if __name__ == '__main__':\n",
    "    # Here is a lambda which acts as a wrapper for detector function, e.g. harrisDetector.\n",
    "    # The detector arguments are, in order: image, sigma, rho, k, threshold.\n",
    "    detect_fun = lambda I: p2.MultiScaleCornerDetect(I, 2, 2.5, 0.05, 0.005, 1.5, 4)\n",
    "\n",
    "    # You can use either of the following lines to extract features (HOG/SURF).\n",
    "    desc_fun = lambda I, kp: p3.featuresHOG(I,kp)\n",
    "    # desc_fun = lambda I, kp: p3.featuresHOG(I,kp)\n",
    "\n",
    "    # Execute evaluation by providing the above functions as arguments\n",
    "    # Returns 2 1x3 arrays containing the errors\n",
    "    avg_scale_errors, avg_theta_errors = p3.matching_evaluation(detect_fun, desc_fun)\n",
    "    print('Avg. Scale Error for Image 1: {:.3f}'.format(avg_scale_errors[0]))\n",
    "    print('Avg. Theta Error for Image 1: {:.3f}'.format(avg_theta_errors[0]))\n"
   ]
  },
  {
   "cell_type": "code",
   "execution_count": null,
   "metadata": {},
   "outputs": [
    {
     "name": "stdout",
     "output_type": "stream",
     "text": [
      "Avg. Scale Error for Image 1: 0.027\n",
      "Avg. Theta Error for Image 1: 7.759\n"
     ]
    }
   ],
   "source": [
    "\n",
    "if __name__ == '__main__':\n",
    "    # Here is a lambda which acts as a wrapper for detector function, e.g. harrisDetector.\n",
    "    # The detector arguments are, in order: image, sigma, rho, k, threshold.\n",
    "    detect_fun = lambda I: p2.BlobDetect(I, 2, 2.5, 0.05, 0.005)\n",
    "\n",
    "    # You can use either of the following lines to extract features (HOG/SURF).\n",
    "    desc_fun = lambda I, kp: p3.featuresSURF(I,kp)\n",
    "    # desc_fun = lambda I, kp: p3.featuresHOG(I,kp)\n",
    "\n",
    "    # Execute evaluation by providing the above functions as arguments\n",
    "    # Returns 2 1x3 arrays containing the errors\n",
    "    avg_scale_errors, avg_theta_errors = p3.matching_evaluation(detect_fun, desc_fun)\n",
    "    print('Avg. Scale Error for Image 1: {:.3f}'.format(avg_scale_errors[0]))\n",
    "    print('Avg. Theta Error for Image 1: {:.3f}'.format(avg_theta_errors[0]))\n"
   ]
  },
  {
   "cell_type": "code",
   "execution_count": null,
   "metadata": {},
   "outputs": [
    {
     "ename": "AttributeError",
     "evalue": "'list' object has no attribute 'shape'",
     "output_type": "error",
     "traceback": [
      "\u001b[1;31m---------------------------------------------------------------------------\u001b[0m",
      "\u001b[1;31mAttributeError\u001b[0m                            Traceback (most recent call last)",
      "\u001b[1;32m~\\AppData\\Local\\Temp\\ipykernel_19364\\76001546.py\u001b[0m in \u001b[0;36m<module>\u001b[1;34m\u001b[0m\n\u001b[0;32m     10\u001b[0m     \u001b[1;31m# Execute evaluation by providing the above functions as arguments\u001b[0m\u001b[1;33m\u001b[0m\u001b[1;33m\u001b[0m\u001b[1;33m\u001b[0m\u001b[0m\n\u001b[0;32m     11\u001b[0m     \u001b[1;31m# Returns 2 1x3 arrays containing the errors\u001b[0m\u001b[1;33m\u001b[0m\u001b[1;33m\u001b[0m\u001b[1;33m\u001b[0m\u001b[0m\n\u001b[1;32m---> 12\u001b[1;33m     \u001b[0mavg_scale_errors\u001b[0m\u001b[1;33m,\u001b[0m \u001b[0mavg_theta_errors\u001b[0m \u001b[1;33m=\u001b[0m \u001b[0mp3\u001b[0m\u001b[1;33m.\u001b[0m\u001b[0mmatching_evaluation\u001b[0m\u001b[1;33m(\u001b[0m\u001b[0mdetect_fun\u001b[0m\u001b[1;33m,\u001b[0m \u001b[0mdesc_fun\u001b[0m\u001b[1;33m)\u001b[0m\u001b[1;33m\u001b[0m\u001b[1;33m\u001b[0m\u001b[0m\n\u001b[0m\u001b[0;32m     13\u001b[0m     \u001b[0mprint\u001b[0m\u001b[1;33m(\u001b[0m\u001b[1;34m'Avg. Scale Error for Image 1: {:.3f}'\u001b[0m\u001b[1;33m.\u001b[0m\u001b[0mformat\u001b[0m\u001b[1;33m(\u001b[0m\u001b[0mavg_scale_errors\u001b[0m\u001b[1;33m[\u001b[0m\u001b[1;36m0\u001b[0m\u001b[1;33m]\u001b[0m\u001b[1;33m)\u001b[0m\u001b[1;33m)\u001b[0m\u001b[1;33m\u001b[0m\u001b[1;33m\u001b[0m\u001b[0m\n\u001b[0;32m     14\u001b[0m     \u001b[0mprint\u001b[0m\u001b[1;33m(\u001b[0m\u001b[1;34m'Avg. Theta Error for Image 1: {:.3f}'\u001b[0m\u001b[1;33m.\u001b[0m\u001b[0mformat\u001b[0m\u001b[1;33m(\u001b[0m\u001b[0mavg_theta_errors\u001b[0m\u001b[1;33m[\u001b[0m\u001b[1;36m0\u001b[0m\u001b[1;33m]\u001b[0m\u001b[1;33m)\u001b[0m\u001b[1;33m)\u001b[0m\u001b[1;33m\u001b[0m\u001b[1;33m\u001b[0m\u001b[0m\n",
      "\u001b[1;32mc:\\Users\\odydr\\OneDrive\\Documents\\GitHub\\Computer-Vision\\cv23_lab1_part3_utils.pyc\u001b[0m in \u001b[0;36mmatching_evaluation\u001b[1;34m(OO0O0O0OO0O0O00OO, O000OOO0OOOOO00OO)\u001b[0m\n",
      "\u001b[1;32m~\\AppData\\Local\\Temp\\ipykernel_19364\\76001546.py\u001b[0m in \u001b[0;36m<lambda>\u001b[1;34m(I, kp)\u001b[0m\n\u001b[0;32m      5\u001b[0m \u001b[1;33m\u001b[0m\u001b[0m\n\u001b[0;32m      6\u001b[0m     \u001b[1;31m# You can use either of the following lines to extract features (HOG/SURF).\u001b[0m\u001b[1;33m\u001b[0m\u001b[1;33m\u001b[0m\u001b[1;33m\u001b[0m\u001b[0m\n\u001b[1;32m----> 7\u001b[1;33m     \u001b[0mdesc_fun\u001b[0m \u001b[1;33m=\u001b[0m \u001b[1;32mlambda\u001b[0m \u001b[0mI\u001b[0m\u001b[1;33m,\u001b[0m \u001b[0mkp\u001b[0m\u001b[1;33m:\u001b[0m \u001b[0mp3\u001b[0m\u001b[1;33m.\u001b[0m\u001b[0mfeaturesHOG\u001b[0m\u001b[1;33m(\u001b[0m\u001b[0mI\u001b[0m\u001b[1;33m,\u001b[0m\u001b[0mkp\u001b[0m\u001b[1;33m)\u001b[0m\u001b[1;33m\u001b[0m\u001b[1;33m\u001b[0m\u001b[0m\n\u001b[0m\u001b[0;32m      8\u001b[0m     \u001b[1;31m# desc_fun = lambda I, kp: p3.featuresHOG(I,kp)\u001b[0m\u001b[1;33m\u001b[0m\u001b[1;33m\u001b[0m\u001b[1;33m\u001b[0m\u001b[0m\n\u001b[0;32m      9\u001b[0m \u001b[1;33m\u001b[0m\u001b[0m\n",
      "\u001b[1;32mc:\\Users\\odydr\\OneDrive\\Documents\\GitHub\\Computer-Vision\\cv23_lab1_part3_utils.pyc\u001b[0m in \u001b[0;36mfeaturesHOG\u001b[1;34m(O00OO00O0O0OOO000, OOO0OO0O00O0O0O00)\u001b[0m\n",
      "\u001b[1;31mAttributeError\u001b[0m: 'list' object has no attribute 'shape'"
     ]
    }
   ],
   "source": [
    "if __name__ == '__main__':\n",
    "    # Here is a lambda which acts as a wrapper for detector function, e.g. harrisDetector.\n",
    "    # The detector arguments are, in order: image, sigma, rho, k, threshold.\n",
    "    detect_fun = lambda I: p2.MultiScaleBlobDetect(I, 2, 2.5, 0.05, 0.005, 1.5, 4)\n",
    "\n",
    "    # You can use either of the following lines to extract features (HOG/SURF).\n",
    "    desc_fun = lambda I, kp: p3.featuresHOG(I,kp)\n",
    "    # desc_fun = lambda I, kp: p3.featuresHOG(I,kp)\n",
    "\n",
    "    # Execute evaluation by providing the above functions as arguments\n",
    "    # Returns 2 1x3 arrays containing the errors\n",
    "    avg_scale_errors, avg_theta_errors = p3.matching_evaluation(detect_fun, desc_fun)\n",
    "    print('Avg. Scale Error for Image 1: {:.3f}'.format(avg_scale_errors[0]))\n",
    "    print('Avg. Theta Error for Image 1: {:.3f}'.format(avg_theta_errors[0]))\n"
   ]
  }
 ],
 "metadata": {
  "kernelspec": {
   "display_name": "cv_lab1_env",
   "language": "python",
   "name": "python3"
  },
  "language_info": {
   "codemirror_mode": {
    "name": "ipython",
    "version": 3
   },
   "file_extension": ".py",
   "mimetype": "text/x-python",
   "name": "python",
   "nbconvert_exporter": "python",
   "pygments_lexer": "ipython3",
   "version": "3.7.16"
  },
  "orig_nbformat": 4
 },
 "nbformat": 4,
 "nbformat_minor": 2
}
