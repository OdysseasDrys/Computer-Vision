{
 "cells": [
  {
   "cell_type": "code",
   "execution_count": 32,
   "metadata": {},
   "outputs": [],
   "source": [
    "import sys\n",
    "import numpy as np\n",
    "import matplotlib.pyplot as plt\n",
    "from matplotlib.patches import Circle\n",
    "\n",
    "def interest_points_visualization(I_, kp_data_, ax=None):\n",
    "    '''\n",
    "    Plot keypoints chosen by detectos on image.\n",
    "    Args:\n",
    "        I_: Image (if colored, make sure it is in RGB and not BGR).\n",
    "        kp_data_: Nx3 array, as described in assignment.\n",
    "        ax: Matplotlib axis to plot on (if None, a new Axes object is created).\n",
    "    Returns:\n",
    "        ax: Matplotlib axis where the image was plotted.\n",
    "    '''\n",
    "    try:\n",
    "        I = np.array(I_)\n",
    "        kp_data = np.array(kp_data_)\n",
    "    except:\n",
    "        print('Conversion to numpy arrays failed, check if the inputs (image and keypoints) are in the required format.')\n",
    "        exit(2)\n",
    "\n",
    "    try:\n",
    "        assert(len(I.shape) == 2 or (len(I.shape) == 3 and I.shape[2] == 3))\n",
    "    except AssertionError as e:\n",
    "        print('interest_points_visualization: Image must be either a 2D matrix or a 3D matrix with the last dimension having size equal to 3.', file=sys.stderr)\n",
    "        exit(2)\n",
    "\n",
    "    try:\n",
    "        assert(len(kp_data.shape) == 2 and kp_data.shape[1] == 3)\n",
    "    except AssertionError as e:\n",
    "        print('interest_points_visualization: kp_data must be a 2D matrix with 3 columns.', file=sys.stderr)\n",
    "        exit(2)\n",
    "\n",
    "    if ax is None:\n",
    "        _, ax = plt.subplots()\n",
    "\n",
    "    ax.set_aspect('equal')\n",
    "    ax.imshow(I)\n",
    "    ax.tick_params(bottom=False, left=False, labelbottom=False, labelleft=False)\n",
    "\n",
    "    for i in range(len(kp_data)):\n",
    "        x, y, sigma = kp_data[i]\n",
    "        circ = Circle((x, y), 3*sigma, edgecolor='g', fill=False, linewidth=1)\n",
    "        ax.add_patch(circ)\n",
    "\n",
    "    return ax"
   ]
  },
  {
   "cell_type": "code",
   "execution_count": 33,
   "metadata": {},
   "outputs": [],
   "source": [
    "def disk_strel(n):\n",
    "    '''\n",
    "        Return a structural element, which is a disk of radius n.\n",
    "    '''\n",
    "    r = int(np.round(n))\n",
    "    d = 2*r+1\n",
    "    x = np.arange(d) - r\n",
    "    y = np.arange(d) - r\n",
    "    x, y = np.meshgrid(x,y)\n",
    "    strel = x**2 + y**2 <= r**2\n",
    "    return strel.astype(np.uint8)"
   ]
  },
  {
   "cell_type": "code",
   "execution_count": 34,
   "metadata": {},
   "outputs": [],
   "source": [
    "import cv2\n",
    "from matplotlib import pyplot as plt\n",
    "import numpy as np\n",
    "\n",
    "sigma=2\n",
    "r=2.5\n",
    "k=0.1\n",
    "theta_corn=0.05\n",
    "s=1.5\n",
    "N=4"
   ]
  },
  {
   "cell_type": "code",
   "execution_count": 36,
   "metadata": {},
   "outputs": [
    {
     "data": {
      "text/plain": [
       "<matplotlib.image.AxesImage at 0x1fa8049d208>"
      ]
     },
     "execution_count": 36,
     "metadata": {},
     "output_type": "execute_result"
    },
    {
     "data": {
      "image/png": "[encoded data removed]",
      "text/plain": [
       "<Figure size 640x480 with 1 Axes>"
      ]
     },
     "metadata": {},
     "output_type": "display_data"
    }
   ],
   "source": [
    "gauss1D = cv2.getGaussianKernel(N, sigma) # Column vector\n",
    "gauss2D = gauss1D @ gauss1D.T # Symmetric gaussian kernel\n",
    "gauss1Dr= cv2.getGaussianKernel(N, r) # Column vector\n",
    "gauss2Dr = gauss1Dr @ gauss1Dr.T # Symmetric gaussian kernel\n",
    "\n",
    "I = cv2.imread('kyoto_edges.jpg', cv2.IMREAD_GRAYSCALE)\n",
    "I = I.astype(np.float64)/255\n",
    "# Convert to grayscale\n",
    "\n",
    "\n",
    "I= cv2.filter2D(I,-1, gauss2D)\n",
    "\n",
    "Ix, Iy= np.gradient(I)\n",
    "\n",
    "Ix2= Ix**2\n",
    "Ixy= Ix*Iy\n",
    "Iy2= Iy**2\n",
    "\n",
    "j1=cv2.filter2D(gauss2Dr,-1, Ix2)\n",
    "j2=cv2.filter2D(gauss2Dr,-1, Ixy)\n",
    "j3=cv2.filter2D(gauss2Dr,-1, Iy2)\n",
    "\n",
    "lambda_plus=1/2*(j1+j3+np.sqrt((j1-j3)**2+4+j2*2))\n",
    "lambda_minus=1/2*(j1+j3-np.sqrt((j1-j3)**2+4+j2*2))\n",
    "\n",
    "R= lambda_plus*lambda_minus-k*(lambda_plus+lambda_minus)**2\n",
    "\n",
    "ns = np.ceil(3*sigma)*2+1\n",
    "B_sq = disk_strel(ns)\n",
    "Cond1 = ( R==cv2.dilate(R,B_sq) )\n",
    "\n",
    "maxR = np.max(R)\n",
    "Cond2 = np.where(R > theta_corn * maxR, 1, 0)\n",
    "\n",
    "corners = Cond1 & Cond2\n",
    "\n",
    "\n",
    "\n",
    "\n",
    "\n",
    "\n",
    "\n"
   ]
  },
  {
   "cell_type": "code",
   "execution_count": null,
   "metadata": {},
   "outputs": [],
   "source": []
  }
 ],
 "metadata": {
  "kernelspec": {
   "display_name": "cv_lab1_env",
   "language": "python",
   "name": "python3"
  },
  "language_info": {
   "codemirror_mode": {
    "name": "ipython",
    "version": 3
   },
   "file_extension": ".py",
   "mimetype": "text/x-python",
   "name": "python",
   "nbconvert_exporter": "python",
   "pygments_lexer": "ipython3",
   "version": "3.7.16"
  },
  "orig_nbformat": 4
 },
 "nbformat": 4,
 "nbformat_minor": 2
}
